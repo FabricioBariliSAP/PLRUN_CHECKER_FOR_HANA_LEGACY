{
 "cells": [
  {
   "cell_type": "code",
   "execution_count": null,
   "id": "5b1ab5ef-e20e-41f2-9d05-60904b860971",
   "metadata": {},
   "outputs": [],
   "source": [
    "print(\"Welcome to the PLRUN Checker. This is a feature to help you to get quick information for when you have a Pipeline running long.\")\n",
    "print(\"You'll need the PLRUNSEQ for the BAD pipeline, and the PLRUNSEQ for the Good\")\n",
    "\n",
    "print(\"Open your Prompt and type: cd C:\\\\Program Files\\\\SAP\\\\hdbclient\")\n",
    "\n",
    "                            ### END SYSTEM WARNINGS ###\n",
    "\n",
    "                            ### START SYSTEM INPUTS ###\n",
    "\n",
    "SERVER =  input(\"Enter the HANA DB SERVER: \")\n",
    "PORT =  input(\"Enter the HANA DB PORT: \")\n",
    "ADUSER =  input(\"Enter the ADUSER: \")\n",
    "\n",
    "print(f\"Than, type hdbuserstore -i SET hana_hxe “{SERVER}:{PORT}” {ADUSER}\")\n",
    "print(\"After you finish, press enter and, on the new row, set your AD Password\")\n",
    "\n",
    "CONFIRM = input(\"When you finish, press ENTER\")\n",
    "\n",
    "print(\"Now, let's work with your case info.\")\n",
    "\n",
    "FOLDER_NAME = input(\"Enter the FOLDER NAME you want to create this ticket: \")\n",
    "current_timestamp = time.time()\n",
    "FOLDER_NAME = f\"{FOLDER_NAME}_{current_timestamp}\"\n",
    "try:\n",
    "    os.makedirs(FOLDER_NAME)\n",
    "    print(f\"Directory '{FOLDER_NAME}' created successfully.\")\n",
    "except FileExistsError:\n",
    "    print(f\"Directory '{FOLDER_NAME}' already exists.\")\n",
    "except Exception as e:\n",
    "    print(f\"An error occurred: {e}\")\n",
    "    \n",
    "BAD =  input(\"Enter the BAD plrunseq: \") or '20547673299896448'\n",
    "GOOD =  input(\"Enter the GOOD plrunseq: \") or '20547673299896664'\n",
    "TENANTID =  input(\"Enter the TENANTID: \") or '0829'\n",
    "DATABASE = input(\"Enter the DATABASE: \") or 'SMF0829PRD'\n",
    "STEPS = 10\n",
    "CURRENT_STEP = 1"
   ]
  }
 ],
 "metadata": {
  "kernelspec": {
   "display_name": "Python 3 (ipykernel)",
   "language": "python",
   "name": "python3"
  },
  "language_info": {
   "codemirror_mode": {
    "name": "ipython",
    "version": 3
   },
   "file_extension": ".py",
   "mimetype": "text/x-python",
   "name": "python",
   "nbconvert_exporter": "python",
   "pygments_lexer": "ipython3",
   "version": "3.12.1"
  }
 },
 "nbformat": 4,
 "nbformat_minor": 5
}
